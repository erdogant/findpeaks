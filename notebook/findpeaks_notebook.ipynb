{
  "nbformat": 4,
  "nbformat_minor": 0,
  "metadata": {
    "colab": {
      "provenance": []
    },
    "kernelspec": {
      "name": "python3",
      "display_name": "Python 3"
    },
    "language_info": {
      "name": "python"
    }
  },
  "cells": [
    {
      "cell_type": "markdown",
      "source": [
        "<!-- Centered logo -->\n",
        "<p align=\"center\">\n",
        "  <img src=\"https://github.com/erdogant/findpeaks/blob/master/docs/figs/logo.png?raw=true\" width=\"100\" />\n",
        "</p>\n",
        "\n",
        "<!-- Badges row (centered) -->\n",
        "<p align=\"center\">\n",
        "  <a href=\"https://img.shields.io/pypi/pyversions/findpeaks\"><img src=\"https://img.shields.io/pypi/pyversions/findpeaks\" /></a>\n",
        "  <a href=\"https://pypi.org/project/findpeaks/\"><img src=\"https://img.shields.io/pypi/v/bnlearn\" /></a>\n",
        "  <img src=\"https://img.shields.io/github/stars/erdogant/findpeaks\" />\n",
        "  <a href=\"https://github.com/erdogant/findpeaks/blob/master/LICENSE\"><img src=\"https://img.shields.io/badge/license-MIT-green.svg\" /></a>\n",
        "  <a href=\"https://github.com/erdogant/findpeaks/network\"><img src=\"https://img.shields.io/github/forks/erdogant/findpeaks.svg\" /></a>\n",
        "  <a href=\"https://github.com/erdogant/findpeaks/issues\"><img src=\"https://img.shields.io/github/issues/erdogant/findpeaks.svg\" /></a>\n",
        "  <a href=\"http://www.repostatus.org/#active\"><img src=\"http://www.repostatus.org/badges/latest/active.svg\" /></a>\n",
        "  <a href=\"https://pepy.tech/project/findpeaks/\"><img src=\"https://pepy.tech/badge/findpeaks/month\" /></a>\n",
        "  <a href=\"https://pepy.tech/project/findpeaks/\"><img src=\"https://pepy.tech/badge/findpeaks\" /></a>\n",
        "  <a href=\"https://zenodo.org/badge/latestdoi/231263493\"><img src=\"https://zenodo.org/badge/231263493.svg\" /></a>\n",
        "  <a href=\"https://erdogant.github.io/findpeaks/\"><img src=\"https://img.shields.io/badge/Sphinx-Docs-Green\" /></a>\n",
        "  <a href=\"https://erdogant.github.io/bnlearn/pages/html/Documentation.html#medium-blog\"><img src=\"https://img.shields.io/badge/Medium-Blog-black\" /></a>\n",
        "  <img src=\"https://img.shields.io/github/repo-size/erdogant/findpeaks\" />\n",
        "  <a href=\"https://erdogant.github.io/bnlearn/pages/html/Documentation.html#\"><img src=\"https://img.shields.io/badge/Support%20this%20project-grey.svg?logo=github%20sponsors\" /></a>\n",
        "  <a href=\"https://erdogant.github.io/findpeaks/pages/html/Documentation.html#colab-notebook\"><img src=\"https://colab.research.google.com/assets/colab-badge.svg\" /></a>\n",
        "</p>\n",
        "\n",
        "---\n",
        "\n",
        "# findpeaks\n",
        "\n",
        "findpeaks is a comprehensive Python library for robust detection and analysis of peaks and valleys in both 1D vectors and 2D arrays (images). The library provides multiple detection algorithms including topology-based persistent homology (most robust), mask-based local maximum filtering, and traditional peakdetect approaches. It can be used for time series analysis, signal processing, image analysis, and spatial data. ⭐️Star it if you like it⭐️\n",
        "\n",
        "---\n",
        "\n",
        "## Core functionalities:\n",
        "\n",
        "| Feature | Description |\n",
        "|---|---|\n",
        "| Topology Detection | Mathematically grounded peak detection using persistent homology. |\n",
        "| Peakdetect Method | Traditional peak detection algorithm for noisy signals. |\n",
        "| Mask Detection | Local maximum filtering for 2D image analysis. |\n",
        "| Caerus Method | Specialized algorithm for financial time series analysis. |\n",
        "| Preprocessing | Denoising, scaling, interpolation, and image preprocessing. |\n",
        "| Visualization | Rich plotting capabilities including persistence diagrams and 3D mesh plots. |\n",
        "\n",
        "---\n",
        "\n",
        "<style>\n",
        ".card-container {\n",
        "  display: flex;\n",
        "  flex-wrap: wrap;\n",
        "  gap: 16px;\n",
        "  justify-content: center;\n",
        "  margin-top: 20px;\n",
        "}\n",
        "\n",
        ".card {\n",
        "  flex: 1 1 300px;\n",
        "  max-width: 300px;\n",
        "  background: #f9f9f9;\n",
        "  border: 1px solid #ddd;\n",
        "  border-radius: 12px;\n",
        "  padding: 16px;\n",
        "  box-shadow: 2px 2px 10px rgba(0,0,0,0.05);\n",
        "  transition: 0.3s;\n",
        "}\n",
        "\n",
        ".card:hover {\n",
        "  transform: scale(1.02);\n",
        "  box-shadow: 4px 4px 20px rgba(0,0,0,0.1);\n",
        "}\n",
        "\n",
        ".card a {\n",
        "  text-decoration: none;\n",
        "  font-weight: bold;\n",
        "  color: #333;\n",
        "  font-size: 16px;\n",
        "}\n",
        "\n",
        ".card a:hover {\n",
        "  color: #1e90ff;\n",
        "}\n",
        "</style>\n",
        "\n",
        "\n",
        "---\n",
        "\n",
        "### Support\n",
        "This library is for <b>free</b> but it runs on coffee! :)\n",
        "\n",
        "You can [support](https://erdogant.github.io/pca/pages/html/Documentation.html) in various ways, have a look at the [sponser page](https://erdogant.github.io/bnlearn/pages/html/Documentation.html). Report bugs, issues and feature extensions at [github page](https://github.com/erdogant/bnlearn).\n",
        "\n",
        "<table>\n",
        "  <tr>\n",
        "    <td style=\"text-align: center;\">\n",
        "      <a href=\"https://www.buymeacoffee.com/erdogant\">\n",
        "        <img src=\"https://img.buymeacoffee.com/button-api/?text=Buy me a coffee&emoji=&slug=erdogant&button_colour=FFDD00&font_colour=000000&font_family=Cookie&outline_colour=000000&coffee_colour=ffffff\" />\n",
        "      </a>\n",
        "    </td>\n",
        "    <td style=\"text-align: center;\">\n",
        "      <a href=\"https://erdogant.medium.com/subscribe\" target=\"_blank\">\n",
        "        <img height=\"50\" style=\"border:0px;height:36px;\" src=\"https://erdogant.github.io/images/medium_follow_me.jpg\" border=\"0\" alt=\"Follow me on Medium\" />\n",
        "      </a>\n",
        "    </td>\n",
        "  </tr>\n",
        "</table>\n",
        "\n",
        "---\n"
      ],
      "metadata": {
        "id": "NQ3DlNCQLv-R"
      }
    },
    {
      "cell_type": "code",
      "source": [
        "!pip install findpeaks"
      ],
      "metadata": {
        "colab": {
          "base_uri": "https://localhost:8080/"
        },
        "id": "O9dUdc7GLuZp",
        "outputId": "485d6e1d-45a6-4692-f954-47e1900cb331"
      },
      "execution_count": 5,
      "outputs": [
        {
          "output_type": "stream",
          "name": "stdout",
          "text": [
            "Requirement already satisfied: findpeaks in /usr/local/lib/python3.11/dist-packages (2.7.3)\n",
            "Requirement already satisfied: scipy in /usr/local/lib/python3.11/dist-packages (from findpeaks) (1.16.0)\n",
            "Requirement already satisfied: matplotlib in /usr/local/lib/python3.11/dist-packages (from findpeaks) (3.10.0)\n",
            "Requirement already satisfied: numpy in /usr/local/lib/python3.11/dist-packages (from findpeaks) (2.0.2)\n",
            "Requirement already satisfied: pandas in /usr/local/lib/python3.11/dist-packages (from findpeaks) (2.2.2)\n",
            "Requirement already satisfied: tqdm in /usr/local/lib/python3.11/dist-packages (from findpeaks) (4.67.1)\n",
            "Requirement already satisfied: requests in /usr/local/lib/python3.11/dist-packages (from findpeaks) (2.32.3)\n",
            "Requirement already satisfied: caerus>=0.1.9 in /usr/local/lib/python3.11/dist-packages (from findpeaks) (0.1.10)\n",
            "Requirement already satisfied: xarray in /usr/local/lib/python3.11/dist-packages (from findpeaks) (2025.7.1)\n",
            "Requirement already satisfied: joblib in /usr/local/lib/python3.11/dist-packages (from findpeaks) (1.5.1)\n",
            "Requirement already satisfied: adjustText in /usr/local/lib/python3.11/dist-packages (from findpeaks) (1.3.0)\n",
            "Requirement already satisfied: wget in /usr/local/lib/python3.11/dist-packages (from caerus>=0.1.9->findpeaks) (3.2)\n",
            "Requirement already satisfied: contourpy>=1.0.1 in /usr/local/lib/python3.11/dist-packages (from matplotlib->findpeaks) (1.3.2)\n",
            "Requirement already satisfied: cycler>=0.10 in /usr/local/lib/python3.11/dist-packages (from matplotlib->findpeaks) (0.12.1)\n",
            "Requirement already satisfied: fonttools>=4.22.0 in /usr/local/lib/python3.11/dist-packages (from matplotlib->findpeaks) (4.59.0)\n",
            "Requirement already satisfied: kiwisolver>=1.3.1 in /usr/local/lib/python3.11/dist-packages (from matplotlib->findpeaks) (1.4.8)\n",
            "Requirement already satisfied: packaging>=20.0 in /usr/local/lib/python3.11/dist-packages (from matplotlib->findpeaks) (25.0)\n",
            "Requirement already satisfied: pillow>=8 in /usr/local/lib/python3.11/dist-packages (from matplotlib->findpeaks) (11.3.0)\n",
            "Requirement already satisfied: pyparsing>=2.3.1 in /usr/local/lib/python3.11/dist-packages (from matplotlib->findpeaks) (3.2.3)\n",
            "Requirement already satisfied: python-dateutil>=2.7 in /usr/local/lib/python3.11/dist-packages (from matplotlib->findpeaks) (2.9.0.post0)\n",
            "Requirement already satisfied: pytz>=2020.1 in /usr/local/lib/python3.11/dist-packages (from pandas->findpeaks) (2025.2)\n",
            "Requirement already satisfied: tzdata>=2022.7 in /usr/local/lib/python3.11/dist-packages (from pandas->findpeaks) (2025.2)\n",
            "Requirement already satisfied: charset-normalizer<4,>=2 in /usr/local/lib/python3.11/dist-packages (from requests->findpeaks) (3.4.2)\n",
            "Requirement already satisfied: idna<4,>=2.5 in /usr/local/lib/python3.11/dist-packages (from requests->findpeaks) (3.10)\n",
            "Requirement already satisfied: urllib3<3,>=1.21.1 in /usr/local/lib/python3.11/dist-packages (from requests->findpeaks) (2.5.0)\n",
            "Requirement already satisfied: certifi>=2017.4.17 in /usr/local/lib/python3.11/dist-packages (from requests->findpeaks) (2025.7.14)\n",
            "Requirement already satisfied: six>=1.5 in /usr/local/lib/python3.11/dist-packages (from python-dateutil>=2.7->matplotlib->findpeaks) (1.17.0)\n"
          ]
        }
      ]
    },
    {
      "cell_type": "markdown",
      "metadata": {
        "id": "31804a1b"
      },
      "source": [
        "## This example demonstrates how to detect peaks in a 1D signal using the topology-based method from the `findpeaks` Python library.\n",
        "\n",
        "\n",
        "1. The script begins by importing the required libraries: `matplotlib.pyplot` for visualization and `findpeaks` for peak detection.\n",
        "2. A `findpeaks` object is initialized using the **topology** method, which is designed to identify significant peaks by analyzing the signal's **topological persistence**.\n",
        "3. A synthetic 1D signal is loaded via `import_example('1dpeaks')`.\n",
        "4. The original signal is plotted, providing a visual reference of the data over time.\n",
        "5. The `.fit()` method is used to apply the peak detection algorithm to the input signal.\n",
        "6. Finally, `plot_persistence()` is called to visualize the **persistence diagram**, highlighting the most significant peaks based on their topological features.\n",
        "\n",
        "This approach is particularly useful for filtering out noise and emphasizing structurally relevant features in noisy or complex signals.\n"
      ]
    },
    {
      "cell_type": "code",
      "metadata": {
        "colab": {
          "base_uri": "https://localhost:8080/",
          "height": 530
        },
        "id": "0aabd014",
        "outputId": "3b6ec146-688c-4759-9e24-5a3be2fe43ab"
      },
      "source": [
        "# Import library\n",
        "import matplotlib.pyplot as plt\n",
        "from findpeaks import findpeaks\n",
        "\n",
        "# Initialize\n",
        "fp = findpeaks(method='topology')\n",
        "# Example 1d-vector\n",
        "X = fp.import_example('1dpeaks')\n",
        "\n",
        "# Plot\n",
        "plt.figure(figsize=(15, 8), dpi=100)\n",
        "plt.plot(X)\n",
        "plt.grid(True)\n",
        "plt.xlabel('Time')\n",
        "plt.ylabel('Value')\n",
        "\n",
        "# Fit topology method on the 1D vector\n",
        "results = fp.fit(X)\n",
        "\n",
        "# Plot the results\n",
        "fp.plot_persistence(figsize=(25,8))"
      ],
      "execution_count": 4,
      "outputs": [
        {
          "output_type": "error",
          "ename": "ModuleNotFoundError",
          "evalue": "No module named 'findpeaks.filters'",
          "traceback": [
            "\u001b[0;31m---------------------------------------------------------------------------\u001b[0m",
            "\u001b[0;31mModuleNotFoundError\u001b[0m                       Traceback (most recent call last)",
            "\u001b[0;32m/tmp/ipython-input-4-1316917543.py\u001b[0m in \u001b[0;36m<cell line: 0>\u001b[0;34m()\u001b[0m\n\u001b[1;32m      1\u001b[0m \u001b[0;31m# Import library\u001b[0m\u001b[0;34m\u001b[0m\u001b[0;34m\u001b[0m\u001b[0m\n\u001b[1;32m      2\u001b[0m \u001b[0;32mimport\u001b[0m \u001b[0mmatplotlib\u001b[0m\u001b[0;34m.\u001b[0m\u001b[0mpyplot\u001b[0m \u001b[0;32mas\u001b[0m \u001b[0mplt\u001b[0m\u001b[0;34m\u001b[0m\u001b[0;34m\u001b[0m\u001b[0m\n\u001b[0;32m----> 3\u001b[0;31m \u001b[0;32mfrom\u001b[0m \u001b[0mfindpeaks\u001b[0m \u001b[0;32mimport\u001b[0m \u001b[0mfindpeaks\u001b[0m\u001b[0;34m\u001b[0m\u001b[0;34m\u001b[0m\u001b[0m\n\u001b[0m\u001b[1;32m      4\u001b[0m \u001b[0;34m\u001b[0m\u001b[0m\n\u001b[1;32m      5\u001b[0m \u001b[0;31m# Initialize\u001b[0m\u001b[0;34m\u001b[0m\u001b[0;34m\u001b[0m\u001b[0m\n",
            "\u001b[0;32m/usr/local/lib/python3.11/dist-packages/findpeaks/__init__.py\u001b[0m in \u001b[0;36m<module>\u001b[0;34m\u001b[0m\n\u001b[0;32m----> 1\u001b[0;31m \u001b[0;32mfrom\u001b[0m \u001b[0mfindpeaks\u001b[0m\u001b[0;34m.\u001b[0m\u001b[0mfindpeaks\u001b[0m \u001b[0;32mimport\u001b[0m \u001b[0mfindpeaks\u001b[0m\u001b[0;34m\u001b[0m\u001b[0;34m\u001b[0m\u001b[0m\n\u001b[0m\u001b[1;32m      2\u001b[0m \u001b[0;31m# from findpeaks.peakdetect import peakdetect\u001b[0m\u001b[0;34m\u001b[0m\u001b[0;34m\u001b[0m\u001b[0m\n\u001b[1;32m      3\u001b[0m \u001b[0;34m\u001b[0m\u001b[0m\n\u001b[1;32m      4\u001b[0m from findpeaks.findpeaks import (\n\u001b[1;32m      5\u001b[0m     \u001b[0mimport_example\u001b[0m\u001b[0;34m,\u001b[0m\u001b[0;34m\u001b[0m\u001b[0;34m\u001b[0m\u001b[0m\n",
            "\u001b[0;32m/usr/local/lib/python3.11/dist-packages/findpeaks/findpeaks.py\u001b[0m in \u001b[0;36m<module>\u001b[0;34m\u001b[0m\n\u001b[1;32m     28\u001b[0m \u001b[0;31m# #####################\u001b[0m\u001b[0;34m\u001b[0m\u001b[0;34m\u001b[0m\u001b[0m\n\u001b[1;32m     29\u001b[0m \u001b[0;32mfrom\u001b[0m \u001b[0mfindpeaks\u001b[0m\u001b[0;34m.\u001b[0m\u001b[0mpeakdetect\u001b[0m \u001b[0;32mimport\u001b[0m \u001b[0mpeakdetect\u001b[0m\u001b[0;34m\u001b[0m\u001b[0;34m\u001b[0m\u001b[0m\n\u001b[0;32m---> 30\u001b[0;31m \u001b[0;32mimport\u001b[0m \u001b[0mfindpeaks\u001b[0m\u001b[0;34m.\u001b[0m\u001b[0mstats\u001b[0m \u001b[0;32mas\u001b[0m \u001b[0mstats\u001b[0m\u001b[0;34m\u001b[0m\u001b[0;34m\u001b[0m\u001b[0m\n\u001b[0m\u001b[1;32m     31\u001b[0m \u001b[0;32mfrom\u001b[0m \u001b[0mfindpeaks\u001b[0m\u001b[0;34m.\u001b[0m\u001b[0mstats\u001b[0m \u001b[0;32mimport\u001b[0m \u001b[0mdisable_tqdm\u001b[0m\u001b[0;34m\u001b[0m\u001b[0;34m\u001b[0m\u001b[0m\n\u001b[1;32m     32\u001b[0m \u001b[0;32mimport\u001b[0m \u001b[0mfindpeaks\u001b[0m\u001b[0;34m.\u001b[0m\u001b[0minterpolate\u001b[0m \u001b[0;32mas\u001b[0m \u001b[0minterpolate\u001b[0m\u001b[0;34m\u001b[0m\u001b[0;34m\u001b[0m\u001b[0m\n",
            "\u001b[0;32m/usr/local/lib/python3.11/dist-packages/findpeaks/stats.py\u001b[0m in \u001b[0;36m<module>\u001b[0;34m\u001b[0m\n\u001b[1;32m      8\u001b[0m \u001b[0;34m\u001b[0m\u001b[0m\n\u001b[1;32m      9\u001b[0m \u001b[0;32mimport\u001b[0m \u001b[0mfindpeaks\u001b[0m\u001b[0;34m.\u001b[0m\u001b[0munion_find\u001b[0m \u001b[0;32mas\u001b[0m \u001b[0munion_find\u001b[0m\u001b[0;34m\u001b[0m\u001b[0;34m\u001b[0m\u001b[0m\n\u001b[0;32m---> 10\u001b[0;31m \u001b[0;32mfrom\u001b[0m \u001b[0mfindpeaks\u001b[0m\u001b[0;34m.\u001b[0m\u001b[0mfilters\u001b[0m\u001b[0;34m.\u001b[0m\u001b[0mlee\u001b[0m \u001b[0;32mimport\u001b[0m \u001b[0mlee_filter\u001b[0m\u001b[0;34m\u001b[0m\u001b[0;34m\u001b[0m\u001b[0m\n\u001b[0m\u001b[1;32m     11\u001b[0m \u001b[0;32mfrom\u001b[0m \u001b[0mfindpeaks\u001b[0m\u001b[0;34m.\u001b[0m\u001b[0mfilters\u001b[0m\u001b[0;34m.\u001b[0m\u001b[0mlee_enhanced\u001b[0m \u001b[0;32mimport\u001b[0m \u001b[0mlee_enhanced_filter\u001b[0m\u001b[0;34m\u001b[0m\u001b[0;34m\u001b[0m\u001b[0m\n\u001b[1;32m     12\u001b[0m \u001b[0;32mfrom\u001b[0m \u001b[0mfindpeaks\u001b[0m\u001b[0;34m.\u001b[0m\u001b[0mfilters\u001b[0m\u001b[0;34m.\u001b[0m\u001b[0mlee_sigma\u001b[0m \u001b[0;32mimport\u001b[0m \u001b[0mlee_sigma_filter\u001b[0m\u001b[0;34m\u001b[0m\u001b[0;34m\u001b[0m\u001b[0m\n",
            "\u001b[0;31mModuleNotFoundError\u001b[0m: No module named 'findpeaks.filters'",
            "",
            "\u001b[0;31m---------------------------------------------------------------------------\u001b[0;32m\nNOTE: If your import is failing due to a missing package, you can\nmanually install dependencies using either !pip or !apt.\n\nTo view examples of installing some common dependencies, click the\n\"Open Examples\" button below.\n\u001b[0;31m---------------------------------------------------------------------------\u001b[0m\n"
          ],
          "errorDetails": {
            "actions": [
              {
                "action": "open_url",
                "actionText": "Open Examples",
                "url": "/notebooks/snippets/importing_libraries.ipynb"
              }
            ]
          }
        }
      ]
    },
    {
      "cell_type": "markdown",
      "metadata": {
        "id": "27615a25"
      },
      "source": [
        "# =============================================================================\n",
        "# TOPOLOGY PART 2\n",
        "# ============================================================================="
      ]
    },
    {
      "cell_type": "code",
      "metadata": {
        "id": "df555349"
      },
      "source": [
        "# Import findpeaks\n",
        "from findpeaks import findpeaks\n",
        "\n",
        "# URL to image\n",
        "path = r'https://erdogant.github.io/datasets/images/complex_peaks.png'\n",
        "# Read image from url\n",
        "X = fp.imread(path)\n",
        "\n",
        "# Set findpeaks with its parameters\n",
        "fp = findpeaks(method='topology', whitelist='peak', limit=5, denoise='lee_sigma', params={'window': 5})\n",
        "\n",
        "# Detect peaks\n",
        "results = fp.fit(X)\n",
        "\n",
        "# Show persistence plot\n",
        "fp.plot_persistence()\n",
        "# Show plot\n",
        "fp.plot(figsize=(25, 14), text=True, marker='x', color='#ff0000', figure_order='vertical', fontsize=14)# Mesh plot\n",
        "fp.plot_mesh(view=(40, 225), cmap='hot')\n",
        "\n",
        "# Results in dataframe\n",
        "result_df = results['persistence']"
      ],
      "execution_count": null,
      "outputs": []
    },
    {
      "cell_type": "markdown",
      "metadata": {
        "id": "01724f67"
      },
      "source": [
        "![](https://github.com/erdogant/findpeaks/blob/master/docs/figs/logo.png?raw=true)\n",
        "\n",
        "[![](https://img.shields.io/pypi/pyversions/findpeaks)](https://img.shields.io/pypi/pyversions/findpeaks)\n",
        "[![](https://img.shields.io/pypi/v/bnlearn)](https://pypi.org/project/findpeaks/)\n",
        "![](https://img.shields.io/github/stars/erdogant/findpeaks)\n",
        "[![](https://img.shields.io/badge/license-MIT-green.svg)](https://github.com/erdogant/findpeaks/blob/master/LICENSE)\n",
        "[![](https://img.shields.io/github/forks/erdogant/findpeaks.svg)](https://github.com/erdogant/findpeaks/network)\n",
        "[![](https://img.shields.io/github/issues/erdogant/findpeaks.svg)](https://github.com/erdogant/findpeaks/issues)\n",
        "[![](http://www.repostatus.org/badges/latest/active.svg)](http://www.repostatus.org/#active)\n",
        "[![](https://pepy.tech/badge/findpeaks/month)](https://pepy.tech/project/findpeaks/)\n",
        "[![](https://pepy.tech/badge/findpeaks)](https://pepy.tech/project/findpeaks/)\n",
        "[![](https://zenodo.org/badge/231263493.svg)](https://zenodo.org/badge/latestdoi/231263493)\n",
        "[![](https://img.shields.io/badge/Sphinx-Docs-Green)](https://erdogant.github.io/findpeaks/)\n",
        "[![](https://img.shields.io/badge/Medium-Blog-black)](https://erdogant.github.io/bnlearn/pages/html/Documentation.html#medium-blog)\n",
        "![](https://img.shields.io/github/repo-size/erdogant/findpeaks)\n",
        "[![](https://img.shields.io/badge/Support%20this%20project-grey.svg?logo=github%20sponsors)](https://erdogant.github.io/bnlearn/pages/html/Documentation.html#)\n",
        "[![](https://colab.research.google.com/assets/colab-badge.svg)](https://erdogant.github.io/findpeaks/pages/html/Documentation.html#colab-notebook)\n",
        "\n",
        "* * *\n",
        "\n",
        "# findpeaks\n",
        "\n",
        "findpeaks is a comprehensive Python library for robust detection and analysis of peaks and valleys in both 1D vectors and 2D arrays (images). The library provides multiple detection algorithms including topology-based persistent homology (most robust), mask-based local maximum filtering, and traditional peakdetect approaches. It can be used for time series analysis, signal processing, image analysis, and spatial data. ⭐️Star it if you like it⭐️\n",
        "\n",
        "The core functionalities are:\n",
        "\n",
        "| Feature | Description |\n",
        "|---|---|\n",
        "| Topology Detection | Mathematically grounded peak detection using persistent homology. |\n",
        "| Peakdetect Method | Traditional peak detection algorithm for noisy signals. |\n",
        "| Mask Detection | Local maximum filtering for 2D image analysis. |\n",
        "| Caerus Method | Specialized algorithm for financial time series analysis. |\n",
        "| Preprocessing | Denoising, scaling, interpolation, and image preprocessing. |\n",
        "| Visualization | Rich plotting capabilities including persistence diagrams and 3D mesh plots. |\n",
        "\n",
        "* * *\n",
        "\n",
        "### Read the Medium blogs.\n",
        "\n",
        "[1\\. A Step\\-by\\-Step Guide in detecting causal relationships using Bayesian Structure Learning in Python](https://towardsdatascience.com/a-step-by-step-guide-in-detecting-causal-relationships-using-bayesian-structure-learning-in-python-c20c6b31cee5)\n",
        "\n",
        "[2\\. A step\\-by\\-step guide in designing knowledge\\-driven models using Bayesian theorem.](https://towardsdatascience.com/a-step-by-step-guide-in-designing-knowledge-driven-models-using-bayesian-theorem-7433f6fd64be)\n",
        "\n",
        "[3\\. The Power of Bayesian Causal Inference: A Comparative Analysis of Libraries to Reveal Hidden Causality in Your Dataset.](https://towardsdatascience.com/the-power-of-bayesian-causal-inference-a-comparative-analysis-of-libraries-to-reveal-hidden-d91e8306e25e)\n",
        "\n",
        "[4\\. Chat with Your Dataset using Bayesian Inferences.](https://towardsdatascience.com/chat-with-your-dataset-using-bayesian-inferences-bfd4dc7f8dcd)\n",
        "\n",
        "* * *\n",
        "\n",
        "### Support\n",
        "This library is for free but it runs on coffee! :)\n",
        "\n",
        "You can [support](https://erdogant.github.io/pca/pages/html/Documentation.html) in various ways, have a look at the [sponser page](https://erdogant.github.io/bnlearn/pages/html/Documentation.html). Report bugs, issues and feature extensions at [github page](https://github.com/erdogant/bnlearn).\n",
        "\n",
        "|  | [Follow me on Medium](https://erdogant.medium.com/subscribe) |\n",
        "| --- | --- |\n",
        "\n",
        "* * *"
      ]
    }
  ]
}